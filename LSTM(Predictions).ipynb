{
  "cells": [
    {
      "cell_type": "code",
      "execution_count": null,
      "metadata": {
        "id": "larhS3nW7LIL"
      },
      "outputs": [],
      "source": [
        "%pip install yfinance"
      ]
    },
    {
      "cell_type": "code",
      "execution_count": null,
      "metadata": {
        "id": "XYBXgoZ-7Suj"
      },
      "outputs": [],
      "source": [
        "import yfinance as yf\n",
        "import pandas as pd\n",
        "import numpy as np\n",
        "import matplotlib.pyplot as plt\n",
        "from sklearn.model_selection import train_test_split\n",
        "from sklearn.preprocessing import MinMaxScaler\n",
        "from keras.models import Sequential\n",
        "from keras.layers import Dense, LSTM, Dropout"
      ]
    },
    {
      "cell_type": "markdown",
      "metadata": {
        "id": "5xB58FC1wFDF"
      },
      "source": [
        "## Load Dataset"
      ]
    },
    {
      "cell_type": "code",
      "execution_count": null,
      "metadata": {
        "id": "3TqRv-Q97Sq2"
      },
      "outputs": [],
      "source": [
        "\n",
        "stock = yf.Ticker('TATAMOTORS.NS')\n",
        "data = stock.history(period = 'max')\n",
        "data"
      ]
    },
    {
      "cell_type": "code",
      "execution_count": null,
      "metadata": {
        "id": "g3MfIu9y-3K7"
      },
      "outputs": [],
      "source": [
        "close = data['Close'].values\n",
        "close=close.reshape(-1,1)\n",
        "close.shape"
      ]
    },
    {
      "cell_type": "markdown",
      "metadata": {
        "id": "l18bKJMzxI-j"
      },
      "source": [
        "## Prepare Dataset"
      ]
    },
    {
      "cell_type": "code",
      "execution_count": null,
      "metadata": {
        "id": "3EhLI-p47SoK"
      },
      "outputs": [],
      "source": [
        "scaler = MinMaxScaler(feature_range=(0,1))"
      ]
    },
    {
      "cell_type": "code",
      "execution_count": null,
      "metadata": {
        "id": "m7vATW5B7SlI"
      },
      "outputs": [],
      "source": [
        "scaled_data = scaler.fit_transform(data['Close'].values.reshape(-1,1))\n",
        "scaled_data.shape"
      ]
    },
    {
      "cell_type": "code",
      "execution_count": null,
      "metadata": {
        "id": "vFJQWvko_r6s"
      },
      "outputs": [],
      "source": [
        "scaled_data"
      ]
    },
    {
      "cell_type": "code",
      "execution_count": null,
      "metadata": {
        "id": "wMp8Y-8ozp_l"
      },
      "outputs": [],
      "source": [
        "train_data = scaled_data[:].reshape(-1,1)\n",
        "train_data.shape"
      ]
    },
    {
      "cell_type": "code",
      "execution_count": null,
      "metadata": {
        "id": "HAY99xgY7SiQ"
      },
      "outputs": [],
      "source": [
        "prediction_days = 100 # look back for next day 120,123,124,125,126,127 =====> [120,123,124] -> [125] , [123,124,125] -> [126]"
      ]
    },
    {
      "cell_type": "code",
      "execution_count": null,
      "metadata": {
        "id": "bQcg7Cf57SfJ"
      },
      "outputs": [],
      "source": [
        "x_train = []\n",
        "y_train = []"
      ]
    },
    {
      "cell_type": "code",
      "execution_count": null,
      "metadata": {
        "id": "MGyso-G07ScJ"
      },
      "outputs": [],
      "source": [
        "for x in range(prediction_days, len(train_data)):\n",
        "  x_train.append(train_data[x-prediction_days:x, 0])\n",
        "  y_train.append(train_data[x, 0])\n",
        "\n",
        "x_train, y_train = np.array(x_train), np.array(y_train)"
      ]
    },
    {
      "cell_type": "code",
      "execution_count": null,
      "metadata": {
        "id": "PXxB1i8P5NFS"
      },
      "outputs": [],
      "source": [
        "y_train.shape"
      ]
    },
    {
      "cell_type": "code",
      "execution_count": null,
      "metadata": {
        "id": "NdFpAGNc7SZP"
      },
      "outputs": [],
      "source": [
        "x_train = np.reshape(x_train, (x_train.shape[0], x_train.shape[1], 1))\n",
        "x_train.shape"
      ]
    },
    {
      "cell_type": "markdown",
      "metadata": {
        "id": "yfrvAkdazQLT"
      },
      "source": [
        "## Build Model"
      ]
    },
    {
      "cell_type": "code",
      "execution_count": null,
      "metadata": {
        "id": "WK8IkR8ShlL9"
      },
      "outputs": [],
      "source": [
        "model = Sequential()\n",
        "model.add(LSTM(units = 100, return_sequences=True, input_shape = (x_train.shape[1],1)))\n",
        "\n",
        "model.add(LSTM(units=100, return_sequences=True))\n",
        "\n",
        "model.add(LSTM(units=100))\n",
        "\n",
        "model.add(Dense(units = 1, activation = 'relu'))\n",
        "\n",
        "model.compile(optimizer = 'adam', loss = 'mean_squared_error')"
      ]
    },
    {
      "cell_type": "code",
      "execution_count": null,
      "metadata": {
        "id": "sqIme6-_9N0W"
      },
      "outputs": [],
      "source": [
        "model.summary()"
      ]
    },
    {
      "cell_type": "code",
      "execution_count": null,
      "metadata": {
        "id": "TQ4cemGh7SQz"
      },
      "outputs": [],
      "source": [
        "model.fit(x_train, y_train, epochs = 100, batch_size = 64)"
      ]
    },
    {
      "cell_type": "code",
      "execution_count": null,
      "metadata": {
        "id": "L7HoPjI35tol"
      },
      "outputs": [],
      "source": [
        "pred = model.predict(x_train)"
      ]
    },
    {
      "cell_type": "code",
      "execution_count": null,
      "metadata": {
        "id": "XqauV0Kz7-gU"
      },
      "outputs": [],
      "source": [
        "pred.shape"
      ]
    },
    {
      "cell_type": "code",
      "execution_count": null,
      "metadata": {
        "id": "Mg-wCP_u_EsD"
      },
      "outputs": [],
      "source": [
        "plt.figure(figsize=(10,8))\n",
        "plt.plot(y_train, label = \"Training Data\")\n",
        "plt.plot(pred, label = 'Model 1 Prediction')\n",
        "plt.legend()\n",
        "plt.show()"
      ]
    },
    {
      "cell_type": "markdown",
      "metadata": {
        "id": "ccDNdUDgzVIC"
      },
      "source": [
        "## Test the Accuracy"
      ]
    },
    {
      "cell_type": "code",
      "execution_count": null,
      "metadata": {
        "id": "tML-qeoC7SIo"
      },
      "outputs": [],
      "source": [
        "#Load Test Data"
      ]
    },
    {
      "cell_type": "code",
      "execution_count": null,
      "metadata": {
        "id": "-Cw6CocAQ_Sv"
      },
      "outputs": [],
      "source": [
        "stock = yf.Ticker('SBIN.NS')\n",
        "data = stock.history(period = 'max')\n",
        "data"
      ]
    },
    {
      "cell_type": "code",
      "execution_count": null,
      "metadata": {
        "id": "m_etoYEBzf0a"
      },
      "outputs": [],
      "source": [
        "scaled_data = scaler.fit_transform(data['Close'].values.reshape(-1,1))\n",
        "test_data = scaled_data[:].reshape(-1,1)\n",
        "test_data.shape"
      ]
    },
    {
      "cell_type": "code",
      "execution_count": null,
      "metadata": {
        "id": "Pq6cmcN4RTNj"
      },
      "outputs": [],
      "source": [
        "x_test = []\n",
        "y_test = []\n",
        "prediction_days = 100"
      ]
    },
    {
      "cell_type": "code",
      "execution_count": null,
      "metadata": {
        "id": "ZzCvHGsLRKCf"
      },
      "outputs": [],
      "source": [
        "for x in range(prediction_days, len(test_data)):\n",
        "  x_test.append(test_data[x-prediction_days:x, 0])\n",
        "  y_test.append(test_data[x, 0])\n",
        "\n",
        "x_test, y_test = np.array(x_test), np.array(y_test)"
      ]
    },
    {
      "cell_type": "code",
      "execution_count": null,
      "metadata": {
        "id": "PF7wOqXIpdvz"
      },
      "outputs": [],
      "source": [
        "x_test.shape, y_test.shape"
      ]
    },
    {
      "cell_type": "code",
      "execution_count": null,
      "metadata": {
        "id": "kVnHRhPLp_oF"
      },
      "outputs": [],
      "source": [
        "x_test = np.reshape(x_test, (x_test.shape[0], x_test.shape[1], 1))\n",
        "x_test.shape"
      ]
    },
    {
      "cell_type": "markdown",
      "metadata": {
        "id": "y7Msu4hw1Dz4"
      },
      "source": [
        "## Make Predictions"
      ]
    },
    {
      "cell_type": "code",
      "execution_count": null,
      "metadata": {
        "id": "Pxmx5aL5pR1m"
      },
      "outputs": [],
      "source": [
        "model.summary()"
      ]
    },
    {
      "cell_type": "code",
      "execution_count": null,
      "metadata": {
        "id": "jTM6Luyyzfl2"
      },
      "outputs": [],
      "source": [
        "prediction_price = model.predict(x_test)"
      ]
    },
    {
      "cell_type": "code",
      "execution_count": null,
      "metadata": {
        "id": "uZcGLAN_1lLp"
      },
      "outputs": [],
      "source": [
        "y_test = scaler.inverse_transform(y_test)\n",
        "prediction_price = scaler.inverse_transform(prediction_price)"
      ]
    },
    {
      "cell_type": "code",
      "execution_count": null,
      "metadata": {
        "id": "nkDDJF_gmEC6"
      },
      "outputs": [],
      "source": [
        "prediction_price.shape, y_test.shape"
      ]
    },
    {
      "cell_type": "markdown",
      "metadata": {
        "id": "G72yrT7m_Ujd"
      },
      "source": [
        "## Plot the predictions"
      ]
    },
    {
      "cell_type": "code",
      "execution_count": null,
      "metadata": {
        "id": "JsOT6VDA1lIy"
      },
      "outputs": [],
      "source": [
        "plt.figure(figsize=(10,8))\n",
        "plt.plot(y_test, color = 'red', label = 'Actual')\n",
        "plt.plot(prediction_price, color = 'blue', label = 'LSTM Prediction')\n",
        "plt.ylabel(f'{code.split('.')[0]} Price in Rs')\n",
        "plt.xlabel('Time in Integer')\n",
        "plt.title(f'{code.split('.')[0]} Share Prices')\n",
        "plt.legend()\n",
        "plt.show()"
      ]
    },
    {
      "cell_type": "markdown",
      "metadata": {
        "id": "PMbdT06-_-kI"
      },
      "source": [
        "## Future price"
      ]
    },
    {
      "cell_type": "code",
      "execution_count": null,
      "metadata": {
        "id": "5bEAbJmI1lGT"
      },
      "outputs": [],
      "source": [
        "real_data = [model_inputs[len(model_inputs)-prediction_days:len(model_inputs), 0]]\n",
        "real_data = np.array(real_data)"
      ]
    },
    {
      "cell_type": "code",
      "execution_count": null,
      "metadata": {
        "colab": {
          "base_uri": "https://localhost:8080/"
        },
        "id": "DxTpApSb1lDO",
        "outputId": "abe509e9-097c-425a-e57f-694d62ca561b"
      },
      "outputs": [
        {
          "data": {
            "text/plain": [
              "(1, 100, 1)"
            ]
          },
          "execution_count": 31,
          "metadata": {
            "tags": []
          },
          "output_type": "execute_result"
        }
      ],
      "source": [
        "real_data = np.reshape(real_data, (real_data.shape[0], real_data.shape[1], 1))\n",
        "real_data.shape"
      ]
    },
    {
      "cell_type": "code",
      "execution_count": null,
      "metadata": {
        "id": "oFHpk4FmAOVw"
      },
      "outputs": [],
      "source": [
        "prediction = model.predict(real_data)\n",
        "prediction = scaler.inverse_transform(prediction)"
      ]
    },
    {
      "cell_type": "code",
      "execution_count": null,
      "metadata": {
        "colab": {
          "base_uri": "https://localhost:8080/"
        },
        "id": "pju2kyIiCDcS",
        "outputId": "b72cc4cd-d97a-417d-cf48-52314ee5210c"
      },
      "outputs": [
        {
          "name": "stdout",
          "output_type": "stream",
          "text": [
            "Next day price of HINDALCO.NS Stock is : 313.9100646972656\n"
          ]
        }
      ],
      "source": [
        "print(f'Next day price of {code} Stock is : {prediction[0][0]}')"
      ]
    },
    {
      "cell_type": "markdown",
      "metadata": {
        "id": "r5gSK8w7Ck9W"
      },
      "source": [
        "## Errors"
      ]
    },
    {
      "cell_type": "code",
      "execution_count": null,
      "metadata": {
        "id": "7Y0ivtOwCmzr"
      },
      "outputs": [],
      "source": [
        "from sklearn.metrics import mean_squared_error, mean_absolute_error, r2_score"
      ]
    },
    {
      "cell_type": "code",
      "execution_count": null,
      "metadata": {},
      "outputs": [],
      "source": [
        "actual_price = actual_price.reshape(-1,1)\n",
        "actual_price.shape, prediction_price.shape"
      ]
    },
    {
      "cell_type": "code",
      "execution_count": null,
      "metadata": {},
      "outputs": [],
      "source": [
        "y_train = y_train.reshape(-1,1)\n",
        "y_train.shape, pred.shape"
      ]
    },
    {
      "cell_type": "code",
      "execution_count": null,
      "metadata": {
        "id": "-6tGUgdmCnJ6"
      },
      "outputs": [],
      "source": [
        "rmse_train = np.sqrt(mean_squared_error(y_train, pred))\n",
        "rmse_test = np.sqrt(mean_squared_error(actual_price, prediction_price))"
      ]
    },
    {
      "cell_type": "code",
      "execution_count": null,
      "metadata": {},
      "outputs": [],
      "source": [
        "rmse_train , rmse_test"
      ]
    },
    {
      "cell_type": "code",
      "execution_count": null,
      "metadata": {},
      "outputs": [],
      "source": [
        "mae_train = mean_absolute_error(y_train, pred)\n",
        "mae_train"
      ]
    },
    {
      "cell_type": "code",
      "execution_count": null,
      "metadata": {},
      "outputs": [],
      "source": [
        "mae_test = mean_absolute_error(actual_price, prediction_price)\n",
        "mae_test"
      ]
    },
    {
      "cell_type": "code",
      "execution_count": null,
      "metadata": {},
      "outputs": [],
      "source": [
        "r2_train = r2_score(y_train, pred)\n",
        "r2_train"
      ]
    },
    {
      "cell_type": "code",
      "execution_count": null,
      "metadata": {},
      "outputs": [],
      "source": [
        "r2_test = r2_score(actual_price, prediction_price)\n",
        "r2_test"
      ]
    }
  ],
  "metadata": {
    "colab": {
      "collapsed_sections": [
        "PMbdT06-_-kI",
        "r5gSK8w7Ck9W",
        "_uIQnlR0TYFY"
      ],
      "name": "Stock Market Predicition(LSTM).ipynb",
      "provenance": []
    },
    "kernelspec": {
      "display_name": "Python 3",
      "name": "python3"
    }
  },
  "nbformat": 4,
  "nbformat_minor": 0
}
